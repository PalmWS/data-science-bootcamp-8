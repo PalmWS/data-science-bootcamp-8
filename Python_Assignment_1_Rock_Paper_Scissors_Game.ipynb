{
  "nbformat": 4,
  "nbformat_minor": 0,
  "metadata": {
    "colab": {
      "provenance": [],
      "authorship_tag": "ABX9TyPZKGry11FI0eAsIpTQi3BK",
      "include_colab_link": true
    },
    "kernelspec": {
      "name": "python3",
      "display_name": "Python 3"
    },
    "language_info": {
      "name": "python"
    }
  },
  "cells": [
    {
      "cell_type": "markdown",
      "metadata": {
        "id": "view-in-github",
        "colab_type": "text"
      },
      "source": [
        "<a href=\"https://colab.research.google.com/github/PalmWS/data-science-bootcamp-8/blob/main/Python_Assignment_1_Rock_Paper_Scissors_Game.ipynb\" target=\"_parent\"><img src=\"https://colab.research.google.com/assets/colab-badge.svg\" alt=\"Open In Colab\"/></a>"
      ]
    },
    {
      "cell_type": "code",
      "execution_count": 5,
      "metadata": {
        "id": "4dXz4-M4ZPZh",
        "colab": {
          "base_uri": "https://localhost:8080/"
        },
        "outputId": "3073c17d-c040-4f0e-ccce-7bf5219472e4"
      },
      "outputs": [
        {
          "output_type": "stream",
          "name": "stdout",
          "text": [
            "Round Start!\n",
            "Choose: Rock, Paper, or Scissors\n",
            "Rock\n",
            "You chose Rock, and the computer chose Rock.\n",
            "It's a tie!\n",
            "Player Score: 0, Computer Score: 0\n",
            "Round Start!\n",
            "Choose: Rock, Paper, or Scissors\n",
            "Paper\n",
            "You chose Paper, and the computer chose Rock.\n",
            "You win!\n",
            "Player Score: 1, Computer Score: 0\n",
            "Round Start!\n",
            "Choose: Rock, Paper, or Scissors\n",
            "Scissors\n",
            "You chose Scissors, and the computer chose Rock.\n",
            "Computer wins!\n",
            "Player Score: 1, Computer Score: 1\n",
            "Round Start!\n",
            "Choose: Rock, Paper, or Scissors\n",
            "Rick\n",
            "Invalid choice. Please choose: Rock, Paper, or Scissors\n",
            "Rock\n",
            "You chose Rock, and the computer chose Paper.\n",
            "Computer wins!\n",
            "Player Score: 1, Computer Score: 2\n",
            "Round Start!\n",
            "Choose: Rock, Paper, or Scissors\n",
            "Rock\n",
            "You chose Rock, and the computer chose Rock.\n",
            "It's a tie!\n",
            "Player Score: 1, Computer Score: 2\n",
            "Game Over!\n",
            "Computer won the game!\n"
          ]
        }
      ],
      "source": [
        "import random\n",
        "\n",
        "def determine_winner(player_choice, computer_choice):\n",
        "    if player_choice == computer_choice:\n",
        "        return \"It's a tie!\"\n",
        "    elif (\n",
        "        (player_choice == \"Rock\" and computer_choice == \"Scissors\") or\n",
        "        (player_choice == \"Paper\" and computer_choice == \"Rock\") or\n",
        "        (player_choice == \"Scissors\" and computer_choice == \"Paper\")\n",
        "    ):\n",
        "        return \"You win!\"\n",
        "    else:\n",
        "        return \"Computer wins!\"\n",
        "\n",
        "def get_player_choice():\n",
        "    print(\"Choose: Rock, Paper, or Scissors\")\n",
        "    player_choice = input().capitalize()\n",
        "    while player_choice not in [\"Rock\", \"Paper\", \"Scissors\"]:\n",
        "        print(\"Invalid choice. Please choose: Rock, Paper, or Scissors\")\n",
        "        player_choice = input().capitalize()\n",
        "    return player_choice\n",
        "\n",
        "def get_computer_choice():\n",
        "    choices = [\"Rock\", \"Paper\", \"Scissors\"]\n",
        "    computer_choice = random.choice(choices)\n",
        "    return computer_choice\n",
        "\n",
        "player_score = 0\n",
        "computer_score = 0\n",
        "\n",
        "for _ in range(5):\n",
        "    print(\"Round Start!\")\n",
        "\n",
        "    player_choice = get_player_choice()\n",
        "    computer_choice = get_computer_choice()\n",
        "\n",
        "    print(f\"You chose {player_choice}, and the computer chose {computer_choice}.\")\n",
        "\n",
        "    result = determine_winner(player_choice, computer_choice)\n",
        "    print(result)\n",
        "\n",
        "    if result == \"You win!\":\n",
        "        player_score += 1\n",
        "    elif result == \"Computer wins!\":\n",
        "        computer_score += 1\n",
        "\n",
        "    print(f\"Player Score: {player_score}, Computer Score: {computer_score}\")\n",
        "\n",
        "print(\"Game Over!\")\n",
        "if player_score > computer_score:\n",
        "    print(\"You won the game!\")\n",
        "elif player_score < computer_score:\n",
        "    print(\"Computer won the game!\")\n",
        "else:\n",
        "    print(\"It's a tie!\")\n"
      ]
    }
  ]
}