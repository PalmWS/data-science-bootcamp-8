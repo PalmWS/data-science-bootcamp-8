{
  "nbformat": 4,
  "nbformat_minor": 0,
  "metadata": {
    "colab": {
      "provenance": [],
      "authorship_tag": "ABX9TyON2zZ4O1HzzHusKCxE0uHq",
      "include_colab_link": true
    },
    "kernelspec": {
      "name": "python3",
      "display_name": "Python 3"
    },
    "language_info": {
      "name": "python"
    }
  },
  "cells": [
    {
      "cell_type": "markdown",
      "metadata": {
        "id": "view-in-github",
        "colab_type": "text"
      },
      "source": [
        "<a href=\"https://colab.research.google.com/github/PalmWS/data-science-bootcamp-8/blob/main/Python_Assignment_2_ATM_System.ipynb\" target=\"_parent\"><img src=\"https://colab.research.google.com/assets/colab-badge.svg\" alt=\"Open In Colab\"/></a>"
      ]
    },
    {
      "cell_type": "code",
      "execution_count": 1,
      "metadata": {
        "colab": {
          "base_uri": "https://localhost:8080/"
        },
        "id": "Ry4LJ39gF_DX",
        "outputId": "1dc0100d-6d85-4423-ef58-300cf96a5a94"
      },
      "outputs": [
        {
          "output_type": "stream",
          "name": "stdout",
          "text": [
            "\n",
            "Welcome to the ATM Banking System\n",
            "1. Display Balance\n",
            "2. Deposit\n",
            "3. Withdraw\n",
            "4. Quit\n",
            "Enter your choice (1/2/3/4): 5\n",
            "Invalid choice. Please select a valid option.\n",
            "\n",
            "Welcome to the ATM Banking System\n",
            "1. Display Balance\n",
            "2. Deposit\n",
            "3. Withdraw\n",
            "4. Quit\n",
            "Enter your choice (1/2/3/4): 1\n",
            "Your account balance is $1000.00\n",
            "\n",
            "Welcome to the ATM Banking System\n",
            "1. Display Balance\n",
            "2. Deposit\n",
            "3. Withdraw\n",
            "4. Quit\n",
            "Enter your choice (1/2/3/4): 2\n",
            "Enter the amount to deposit: $2000\n",
            "$2000.00 has been deposited into your account.\n",
            "Your account balance is $3000.00\n",
            "\n",
            "Welcome to the ATM Banking System\n",
            "1. Display Balance\n",
            "2. Deposit\n",
            "3. Withdraw\n",
            "4. Quit\n",
            "Enter your choice (1/2/3/4): 3\n",
            "Enter the amount to withdraw: $1500\n",
            "$1500.00 has been withdrawn from your account.\n",
            "Your account balance is $1500.00\n",
            "\n",
            "Welcome to the ATM Banking System\n",
            "1. Display Balance\n",
            "2. Deposit\n",
            "3. Withdraw\n",
            "4. Quit\n",
            "Enter your choice (1/2/3/4): 4\n",
            "Thank you for using the ATM. Goodbye!\n"
          ]
        }
      ],
      "source": [
        "# Initialize account balance\n",
        "balance = 1000\n",
        "\n",
        "# Function to display account balance\n",
        "def display_balance():\n",
        "    print(f\"Your account balance is ${balance:.2f}\")\n",
        "\n",
        "# Function to deposit money\n",
        "def deposit():\n",
        "    global balance\n",
        "    amount = float(input(\"Enter the amount to deposit: $\"))\n",
        "    balance += amount\n",
        "    print(f\"${amount:.2f} has been deposited into your account.\")\n",
        "    display_balance()\n",
        "\n",
        "# Function to withdraw money\n",
        "def withdraw():\n",
        "    global balance\n",
        "    amount = float(input(\"Enter the amount to withdraw: $\"))\n",
        "    if amount > balance:\n",
        "        print(\"Insufficient funds. Withdrawal canceled.\")\n",
        "    else:\n",
        "        balance -= amount\n",
        "        print(f\"${amount:.2f} has been withdrawn from your account.\")\n",
        "        display_balance()\n",
        "\n",
        "# Main program loop\n",
        "while True:\n",
        "    print(\"\\nWelcome to the ATM Banking System\")\n",
        "    print(\"1. Display Balance\")\n",
        "    print(\"2. Deposit\")\n",
        "    print(\"3. Withdraw\")\n",
        "    print(\"4. Quit\")\n",
        "\n",
        "    choice = input(\"Enter your choice (1/2/3/4): \")\n",
        "\n",
        "    if choice == '1':\n",
        "        display_balance()\n",
        "    elif choice == '2':\n",
        "        deposit()\n",
        "    elif choice == '3':\n",
        "        withdraw()\n",
        "    elif choice == '4':\n",
        "        print(\"Thank you for using the ATM. Goodbye!\")\n",
        "        break\n",
        "    else:\n",
        "        print(\"Invalid choice. Please select a valid option.\")\n"
      ]
    }
  ]
}